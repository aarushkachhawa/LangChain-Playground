{
  "nbformat": 4,
  "nbformat_minor": 0,
  "metadata": {
    "colab": {
      "provenance": [],
      "authorship_tag": "ABX9TyNqgG6yw4GrRL3Yom585qzj",
      "include_colab_link": true
    },
    "kernelspec": {
      "name": "python3",
      "display_name": "Python 3"
    },
    "language_info": {
      "name": "python"
    }
  },
  "cells": [
    {
      "cell_type": "markdown",
      "metadata": {
        "id": "view-in-github",
        "colab_type": "text"
      },
      "source": [
        "<a href=\"https://colab.research.google.com/github/aarushkachhawa/LangChain-Playground/blob/main/celebrity__chatbot.ipynb\" target=\"_parent\"><img src=\"https://colab.research.google.com/assets/colab-badge.svg\" alt=\"Open In Colab\"/></a>"
      ]
    },
    {
      "cell_type": "code",
      "execution_count": 1,
      "metadata": {
        "id": "QP1Jd3G-dlpT",
        "colab": {
          "base_uri": "https://localhost:8080/"
        },
        "outputId": "2dd1abc9-9ad2-45b5-9e8b-b7b10422018c"
      },
      "outputs": [
        {
          "output_type": "stream",
          "name": "stdout",
          "text": [
            "Collecting openai\n",
            "  Downloading openai-1.17.0-py3-none-any.whl (268 kB)\n",
            "\u001b[2K     \u001b[90m━━━━━━━━━━━━━━━━━━━━━━━━━━━━━━━━━━━━━━━━\u001b[0m \u001b[32m268.3/268.3 kB\u001b[0m \u001b[31m4.3 MB/s\u001b[0m eta \u001b[36m0:00:00\u001b[0m\n",
            "\u001b[?25hRequirement already satisfied: anyio<5,>=3.5.0 in /usr/local/lib/python3.10/dist-packages (from openai) (3.7.1)\n",
            "Requirement already satisfied: distro<2,>=1.7.0 in /usr/lib/python3/dist-packages (from openai) (1.7.0)\n",
            "Collecting httpx<1,>=0.23.0 (from openai)\n",
            "  Downloading httpx-0.27.0-py3-none-any.whl (75 kB)\n",
            "\u001b[2K     \u001b[90m━━━━━━━━━━━━━━━━━━━━━━━━━━━━━━━━━━━━━━━━\u001b[0m \u001b[32m75.6/75.6 kB\u001b[0m \u001b[31m4.8 MB/s\u001b[0m eta \u001b[36m0:00:00\u001b[0m\n",
            "\u001b[?25hRequirement already satisfied: pydantic<3,>=1.9.0 in /usr/local/lib/python3.10/dist-packages (from openai) (2.6.4)\n",
            "Requirement already satisfied: sniffio in /usr/local/lib/python3.10/dist-packages (from openai) (1.3.1)\n",
            "Requirement already satisfied: tqdm>4 in /usr/local/lib/python3.10/dist-packages (from openai) (4.66.2)\n",
            "Requirement already satisfied: typing-extensions<5,>=4.7 in /usr/local/lib/python3.10/dist-packages (from openai) (4.11.0)\n",
            "Requirement already satisfied: idna>=2.8 in /usr/local/lib/python3.10/dist-packages (from anyio<5,>=3.5.0->openai) (3.6)\n",
            "Requirement already satisfied: exceptiongroup in /usr/local/lib/python3.10/dist-packages (from anyio<5,>=3.5.0->openai) (1.2.0)\n",
            "Requirement already satisfied: certifi in /usr/local/lib/python3.10/dist-packages (from httpx<1,>=0.23.0->openai) (2024.2.2)\n",
            "Collecting httpcore==1.* (from httpx<1,>=0.23.0->openai)\n",
            "  Downloading httpcore-1.0.5-py3-none-any.whl (77 kB)\n",
            "\u001b[2K     \u001b[90m━━━━━━━━━━━━━━━━━━━━━━━━━━━━━━━━━━━━━━━━\u001b[0m \u001b[32m77.9/77.9 kB\u001b[0m \u001b[31m5.0 MB/s\u001b[0m eta \u001b[36m0:00:00\u001b[0m\n",
            "\u001b[?25hCollecting h11<0.15,>=0.13 (from httpcore==1.*->httpx<1,>=0.23.0->openai)\n",
            "  Downloading h11-0.14.0-py3-none-any.whl (58 kB)\n",
            "\u001b[2K     \u001b[90m━━━━━━━━━━━━━━━━━━━━━━━━━━━━━━━━━━━━━━━━\u001b[0m \u001b[32m58.3/58.3 kB\u001b[0m \u001b[31m5.5 MB/s\u001b[0m eta \u001b[36m0:00:00\u001b[0m\n",
            "\u001b[?25hRequirement already satisfied: annotated-types>=0.4.0 in /usr/local/lib/python3.10/dist-packages (from pydantic<3,>=1.9.0->openai) (0.6.0)\n",
            "Requirement already satisfied: pydantic-core==2.16.3 in /usr/local/lib/python3.10/dist-packages (from pydantic<3,>=1.9.0->openai) (2.16.3)\n",
            "Installing collected packages: h11, httpcore, httpx, openai\n",
            "Successfully installed h11-0.14.0 httpcore-1.0.5 httpx-0.27.0 openai-1.17.0\n",
            "Mounted at /content/drive\n",
            "/content/drive/My Drive/LangChain-Playground\n"
          ]
        }
      ],
      "source": [
        "!pip install openai\n",
        "from jinja2 import Environment, FileSystemLoader\n",
        "from openai import OpenAI\n",
        "from google.colab import userdata\n",
        "from google.colab import drive\n",
        "drive.mount('/content/drive')\n",
        "%cd /content/drive/My Drive/LangChain-Playground"
      ]
    },
    {
      "cell_type": "code",
      "source": [
        "client = OpenAI(api_key = userdata.get('OPENAI_API_KEY'))\n",
        "\n",
        "context = []\n",
        "\n",
        "def get_completion(messages):\n",
        "  response = client.chat.completions.create(\n",
        "      model=\"gpt-3.5-turbo\",\n",
        "      messages=messages\n",
        "  )\n",
        "  return response.choices[0].message.content"
      ],
      "metadata": {
        "id": "_cHShL_8vXTD"
      },
      "execution_count": 2,
      "outputs": []
    },
    {
      "cell_type": "code",
      "source": [
        "environment = Environment(loader=FileSystemLoader(\"\"))\n",
        "template = environment.get_template(\"prompt.txt\")\n",
        "\n",
        "inner_prompt = input(\"What celebrity do you want this chatbot to emulate?: \")\n",
        "\n",
        "print(\"Chat with the Chatbot using the user input box. If you would like to end the session, type 'quit'.\")\n",
        "\n",
        "system_prompt = template.render(prompt=inner_prompt)\n",
        "context.append({\"role\" : \"system\", \"content\" : system_prompt})\n",
        "\n",
        "user_input = \"\"\n",
        "while (True):\n",
        "  user_input = input(\"user: \")\n",
        "  if (user_input == \"quit\"):\n",
        "    break\n",
        "  context.append({\"role\" : \"user\", \"content\" : user_input})\n",
        "  completion = get_completion(context)\n",
        "  print(\"chatbot:\", completion)\n",
        "  context.append({\"role\" : \"assistant\", \"content\" : completion})"
      ],
      "metadata": {
        "colab": {
          "base_uri": "https://localhost:8080/"
        },
        "id": "jZp4vi69k4ii",
        "outputId": "b659c9d0-879d-44ab-cd22-1a94a2644133"
      },
      "execution_count": 8,
      "outputs": [
        {
          "name": "stdout",
          "output_type": "stream",
          "text": [
            "What celebrity do you want this chatbot to emulate?: kevin hart\n",
            "Chat with the Chatbot using the user input box. If you would like to end the session, type 'quit'.\n",
            "user: hi\n",
            "chatbot: Hey, hey, hey! It's Kevin Hart in the house. What's up?\n",
            "user: how old are you kevin?\n",
            "chatbot: I'm Kevin Hart! But hey, age is just a number, right?\n",
            "user: where were you born?\n",
            "chatbot: I was born in Philadelphia, Pennsylvania, but you can find me all over the place making people laugh!\n",
            "user: wow you are so funny\n",
            "chatbot: Thanks! I appreciate that. Laughter is the best medicine, after all!\n",
            "user: who is your favorite comedian besides yourself\n",
            "chatbot: There are so many talented comedians out there, but I'd say one of my favorites is Chris Rock. The guy is hilarious!\n",
            "user: quit\n"
          ]
        }
      ]
    },
    {
      "cell_type": "code",
      "source": [],
      "metadata": {
        "id": "HpTD5uYylFq2"
      },
      "execution_count": 6,
      "outputs": []
    }
  ]
}